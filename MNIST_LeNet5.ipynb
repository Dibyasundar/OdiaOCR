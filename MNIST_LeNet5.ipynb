{
 "cells": [
  {
   "cell_type": "code",
   "execution_count": 1,
   "id": "f56b3268-5032-452c-9962-3dd469296802",
   "metadata": {},
   "outputs": [
    {
     "name": "stderr",
     "output_type": "stream",
     "text": [
      "Using TensorFlow backend.\n"
     ]
    }
   ],
   "source": [
    "import os\n",
    "import gzip\n",
    "import shutil\n",
    "import numpy as np\n",
    "from mlxtend.data import loadlocal_mnist\n",
    "from keras.layers import Flatten, Input, Conv2D, MaxPool2D, Dense\n",
    "from keras.optimizers import Adam\n",
    "from keras.models import Sequential\n",
    "from matplotlib import pyplot as plt\n",
    "from sklearn.preprocessing import OneHotEncoder\n",
    "import time\n",
    "from sklearn.metrics import confusion_matrix, classification_report"
   ]
  },
  {
   "cell_type": "code",
   "execution_count": 2,
   "id": "01cd9e98-f0fe-4bac-8004-44b41a693b56",
   "metadata": {},
   "outputs": [],
   "source": [
    "def precision(label, confusion_matrix):\n",
    "    tp = confusion_matrix[label, label];\n",
    "    fn = np.sum(confusion_matrix[label, :]) - tp;\n",
    "    fp = np.sum(confusion_matrix[:, label]) - tp;\n",
    "    tn = np.sum(confusion_matrix) - (tp+fp+fn)\n",
    "    return (tp)/(tp+fp)\n",
    "    \n",
    "def recall(label, confusion_matrix):\n",
    "    tp = confusion_matrix[label, label];\n",
    "    fn = np.sum(confusion_matrix[label, :]) - tp;\n",
    "    fp = np.sum(confusion_matrix[:, label]) - tp;\n",
    "    tn = np.sum(confusion_matrix) - (tp+fp+fn)\n",
    "    return (tp)/(tp+fn)\n",
    "\n",
    "def accuracy_f(label, confusion_matrix):\n",
    "    tp = confusion_matrix[label, label];\n",
    "    fn = np.sum(confusion_matrix[label, :]) - tp;\n",
    "    fp = np.sum(confusion_matrix[:, label]) - tp;\n",
    "    tn = np.sum(confusion_matrix) - (tp+fp+fn)\n",
    "    return (tp+tn)/(tp+tn+fp+fn)\n",
    "def tp_f(label, confusion_matrix):\n",
    "    tp = confusion_matrix[label, label];\n",
    "    fn = np.sum(confusion_matrix[label, :]) - tp;\n",
    "    fp = np.sum(confusion_matrix[:, label]) - tp;\n",
    "    tn = np.sum(confusion_matrix) - (tp+fp+fn)\n",
    "    return tp,fn,fp,tn"
   ]
  },
  {
   "cell_type": "code",
   "execution_count": 3,
   "id": "85850eb9-0a58-43a3-a247-115aa78bdb41",
   "metadata": {},
   "outputs": [],
   "source": [
    "data_source = \"MNIST Digit/Train\"\n",
    "data_temp = \"MNIST/Train\"\n",
    "data_store = \"MNIST/Train\""
   ]
  },
  {
   "cell_type": "code",
   "execution_count": 4,
   "id": "45d44b78-7424-42b5-a31e-901891055010",
   "metadata": {},
   "outputs": [
    {
     "name": "stdout",
     "output_type": "stream",
     "text": [
      "['train-images-idx3-ubyte.gz', 'train-labels-idx1-ubyte.gz']\n"
     ]
    }
   ],
   "source": [
    "c_list = os.listdir(data_source)\n",
    "print(c_list)"
   ]
  },
  {
   "cell_type": "code",
   "execution_count": 5,
   "id": "8539fa78-78f3-47ca-aa0c-a106a3422798",
   "metadata": {},
   "outputs": [],
   "source": [
    "if os.path.isdir(data_temp):\n",
    "    shutil.rmtree(data_temp)\n",
    "    os.makedirs(data_temp)\n",
    "else:\n",
    "    os.makedirs(data_temp)"
   ]
  },
  {
   "cell_type": "code",
   "execution_count": 6,
   "id": "9a3249bb-5c50-457a-bfea-23b3d9b04ea6",
   "metadata": {},
   "outputs": [],
   "source": [
    "if os.path.isdir(data_store):\n",
    "    shutil.rmtree(data_store)\n",
    "    os.makedirs(data_store)\n",
    "else:\n",
    "    os.makedirs(data_store)"
   ]
  },
  {
   "cell_type": "code",
   "execution_count": 7,
   "id": "9507b577-a8b4-495f-b134-a509f656cbd9",
   "metadata": {
    "tags": []
   },
   "outputs": [],
   "source": [
    "for c_l in c_list:\n",
    "    with gzip.open(data_source+'/'+c_l, 'rb') as f_in:\n",
    "        with open(data_temp+'/'+c_l[:(c_l.find('.gz'))], 'wb') as f_out:\n",
    "            shutil.copyfileobj(f_in, f_out)"
   ]
  },
  {
   "cell_type": "code",
   "execution_count": 8,
   "id": "a34473a1-d43c-497c-bd11-b76b3d6f7266",
   "metadata": {},
   "outputs": [
    {
     "name": "stdout",
     "output_type": "stream",
     "text": [
      "['train-images-idx3-ubyte', 'train-labels-idx1-ubyte']\n"
     ]
    }
   ],
   "source": [
    "c_list = os.listdir(data_temp)\n",
    "print(c_list)\n",
    "train_image, train_label = loadlocal_mnist(images_path=data_temp+'/'+'train-images-idx3-ubyte', labels_path=data_temp+'/'+'train-labels-idx1-ubyte')"
   ]
  },
  {
   "cell_type": "code",
   "execution_count": 9,
   "id": "b3d24a86-37ed-4f44-9b3a-ea94814260ad",
   "metadata": {},
   "outputs": [
    {
     "name": "stdout",
     "output_type": "stream",
     "text": [
      "(60000, 28, 28, 1)\n",
      "(60000, 10)\n"
     ]
    }
   ],
   "source": [
    "train_image=np.expand_dims(train_image, axis=2)\n",
    "train_image = np.reshape(train_image, (-1,28,28))\n",
    "train_image=np.expand_dims(train_image, axis=3)\n",
    "print(train_image.shape)\n",
    "onehot_encoder = OneHotEncoder(sparse=False)\n",
    "train_label = onehot_encoder.fit_transform(np.expand_dims(train_label,axis=1))\n",
    "print(train_label.shape)"
   ]
  },
  {
   "cell_type": "code",
   "execution_count": 10,
   "id": "e7cbdbe3-843b-4fe9-b410-49b52eab8688",
   "metadata": {},
   "outputs": [
    {
     "data": {
      "image/png": "[encoded data removed]",
      "text/plain": [
       "<Figure size 640x480 with 1 Axes>"
      ]
     },
     "metadata": {},
     "output_type": "display_data"
    }
   ],
   "source": [
    "plt.imshow(train_image[1,:,:,0],cmap='gray')\n",
    "plt.imsave(\"b_0.jpg\", train_image[1,:,:,0],cmap=\"gray\")\n",
    "plt.show()"
   ]
  },
  {
   "cell_type": "code",
   "execution_count": 11,
   "id": "e0fff605-1b02-4554-987f-852cc5a3b1b9",
   "metadata": {},
   "outputs": [],
   "source": [
    "def lenet():\n",
    "    model = Sequential()\n",
    "    model.add(Conv2D(filters=32, kernel_size=(5,5), padding='same', activation='relu', input_shape=(28, 28, 1)))\n",
    "    model.add(MaxPool2D(strides=2))\n",
    "    model.add(Conv2D(filters=48, kernel_size=(5,5), padding='valid', activation='relu'))\n",
    "    model.add(MaxPool2D(strides=2))\n",
    "    model.add(Flatten())\n",
    "    model.add(Dense(256, activation='relu'))\n",
    "    model.add(Dense(84, activation='relu'))\n",
    "    model.add(Dense(10, activation='softmax'))\n",
    "    return model"
   ]
  },
  {
   "cell_type": "code",
   "execution_count": 12,
   "id": "31d59019-2125-4478-9ce0-c4ffc9c3f3de",
   "metadata": {},
   "outputs": [],
   "source": [
    "model  = lenet()"
   ]
  },
  {
   "cell_type": "code",
   "execution_count": 13,
   "id": "4d86978c-f4e6-416d-b7b0-094b7d326a8a",
   "metadata": {},
   "outputs": [
    {
     "name": "stdout",
     "output_type": "stream",
     "text": [
      "Model: \"sequential_1\"\n",
      "_________________________________________________________________\n",
      "Layer (type)                 Output Shape              Param #   \n",
      "=================================================================\n",
      "conv2d_1 (Conv2D)            (None, 28, 28, 32)        832       \n",
      "_________________________________________________________________\n",
      "max_pooling2d_1 (MaxPooling2 (None, 14, 14, 32)        0         \n",
      "_________________________________________________________________\n",
      "conv2d_2 (Conv2D)            (None, 10, 10, 48)        38448     \n",
      "_________________________________________________________________\n",
      "max_pooling2d_2 (MaxPooling2 (None, 5, 5, 48)          0         \n",
      "_________________________________________________________________\n",
      "flatten_1 (Flatten)          (None, 1200)              0         \n",
      "_________________________________________________________________\n",
      "dense_1 (Dense)              (None, 256)               307456    \n",
      "_________________________________________________________________\n",
      "dense_2 (Dense)              (None, 84)                21588     \n",
      "_________________________________________________________________\n",
      "dense_3 (Dense)              (None, 10)                850       \n",
      "=================================================================\n",
      "Total params: 369,174\n",
      "Trainable params: 369,174\n",
      "Non-trainable params: 0\n",
      "_________________________________________________________________\n"
     ]
    }
   ],
   "source": [
    "model.summary()"
   ]
  },
  {
   "cell_type": "code",
   "execution_count": 14,
   "id": "e693c241-41f2-4b3c-804c-3eb8e8f0c0b6",
   "metadata": {},
   "outputs": [],
   "source": [
    "adam = Adam(lr=5e-4)\n",
    "model.compile(loss='categorical_crossentropy', metrics=['accuracy'], optimizer=adam)"
   ]
  },
  {
   "cell_type": "code",
   "execution_count": 15,
   "id": "7ecb77a8-57de-4556-936b-be8a9523e720",
   "metadata": {},
   "outputs": [
    {
     "name": "stdout",
     "output_type": "stream",
     "text": [
      "Epoch 1/10\n",
      "60000/60000 [==============================] - 22s 373us/step - loss: 2.8333 - accuracy: 0.7338\n",
      "Epoch 2/10\n",
      "60000/60000 [==============================] - 29s 479us/step - loss: 0.2330 - accuracy: 0.9338\n",
      "Epoch 3/10\n",
      "60000/60000 [==============================] - 29s 476us/step - loss: 0.1388 - accuracy: 0.9595\n",
      "Epoch 4/10\n",
      "60000/60000 [==============================] - 28s 467us/step - loss: 0.0961 - accuracy: 0.9709\n",
      "Epoch 5/10\n",
      "60000/60000 [==============================] - 28s 467us/step - loss: 0.0710 - accuracy: 0.9787\n",
      "Epoch 6/10\n",
      "60000/60000 [==============================] - 28s 461us/step - loss: 0.0556 - accuracy: 0.9831\n",
      "Epoch 7/10\n",
      "60000/60000 [==============================] - 31s 517us/step - loss: 0.0441 - accuracy: 0.9868\n",
      "Epoch 8/10\n",
      "60000/60000 [==============================] - 32s 537us/step - loss: 0.0351 - accuracy: 0.9887\n",
      "Epoch 9/10\n",
      "60000/60000 [==============================] - 33s 554us/step - loss: 0.0284 - accuracy: 0.9916\n",
      "Epoch 10/10\n",
      "60000/60000 [==============================] - 35s 591us/step - loss: 0.0218 - accuracy: 0.9938\n"
     ]
    }
   ],
   "source": [
    "history = model.fit(train_image, train_label, batch_size=1000, epochs=10 )"
   ]
  },
  {
   "cell_type": "code",
   "execution_count": 16,
   "id": "b5a87ef5-1626-4503-8003-bba53f325247",
   "metadata": {},
   "outputs": [
    {
     "data": {
      "image/png": "[encoded data removed]",
      "text/plain": [
       "<Figure size 640x480 with 1 Axes>"
      ]
     },
     "metadata": {},
     "output_type": "display_data"
    }
   ],
   "source": [
    "plt.plot(history.history['accuracy'])\n",
    "plt.title('model accuracy')\n",
    "plt.ylabel('accuracy')\n",
    "plt.xlabel('epoch')\n",
    "plt.legend(['train'], loc='upper left')\n",
    "plt.show()"
   ]
  },
  {
   "cell_type": "code",
   "execution_count": 17,
   "id": "79f00229-65ee-4840-90a4-57e1c626b7ae",
   "metadata": {},
   "outputs": [
    {
     "data": {
      "image/png": "[encoded data removed]",
      "text/plain": [
       "<Figure size 640x480 with 1 Axes>"
      ]
     },
     "metadata": {},
     "output_type": "display_data"
    }
   ],
   "source": [
    "plt.plot(history.history['loss'])\n",
    "plt.title('model loss')\n",
    "plt.ylabel('loss')\n",
    "plt.xlabel('epoch')\n",
    "plt.legend(['train'], loc='upper left')\n",
    "plt.show()"
   ]
  },
  {
   "cell_type": "code",
   "execution_count": 18,
   "id": "c51a4200-c4fd-4643-a7c4-1607eed41f2a",
   "metadata": {},
   "outputs": [],
   "source": [
    "data_source = \"MNIST Digit/Test\"\n",
    "data_temp = \"MNIST/Test\"\n",
    "data_store = \"MNIST/Test\""
   ]
  },
  {
   "cell_type": "code",
   "execution_count": 19,
   "id": "91d5d7a6-ea2b-470c-8063-e2b552257d05",
   "metadata": {},
   "outputs": [
    {
     "name": "stdout",
     "output_type": "stream",
     "text": [
      "['t10k-images-idx3-ubyte.gz', 't10k-labels-idx1-ubyte.gz']\n"
     ]
    }
   ],
   "source": [
    "c_list = os.listdir(data_source)\n",
    "print(c_list)"
   ]
  },
  {
   "cell_type": "code",
   "execution_count": 20,
   "id": "c8482da7-5197-46e3-997a-167228ccfd89",
   "metadata": {},
   "outputs": [],
   "source": [
    "if os.path.isdir(data_temp):\n",
    "    shutil.rmtree(data_temp)\n",
    "    os.makedirs(data_temp)\n",
    "else:\n",
    "    os.makedirs(data_temp)"
   ]
  },
  {
   "cell_type": "code",
   "execution_count": 21,
   "id": "c950b64e-eb37-48fa-a7ab-771fbde0c59a",
   "metadata": {},
   "outputs": [],
   "source": [
    "if os.path.isdir(data_store):\n",
    "    shutil.rmtree(data_store)\n",
    "    os.makedirs(data_store)\n",
    "else:\n",
    "    os.makedirs(data_store)"
   ]
  },
  {
   "cell_type": "code",
   "execution_count": 22,
   "id": "3263faab-bd97-4335-90e1-f561a3b3273c",
   "metadata": {},
   "outputs": [],
   "source": [
    "for c_l in c_list:\n",
    "    with gzip.open(data_source+'/'+c_l, 'rb') as f_in:\n",
    "        with open(data_temp+'/'+c_l[:(c_l.find('.gz'))], 'wb') as f_out:\n",
    "            shutil.copyfileobj(f_in, f_out)"
   ]
  },
  {
   "cell_type": "code",
   "execution_count": 23,
   "id": "ea63080d-c351-4059-94a3-9d9cdcaec1fb",
   "metadata": {},
   "outputs": [
    {
     "name": "stdout",
     "output_type": "stream",
     "text": [
      "['t10k-images-idx3-ubyte', 't10k-labels-idx1-ubyte']\n"
     ]
    }
   ],
   "source": [
    "c_list = os.listdir(data_temp)\n",
    "print(c_list)"
   ]
  },
  {
   "cell_type": "code",
   "execution_count": 24,
   "id": "81b85127-65f7-48cf-ade6-211285882f48",
   "metadata": {},
   "outputs": [],
   "source": [
    "test_image, test_label = loadlocal_mnist(images_path=data_temp+'/'+'t10k-images-idx3-ubyte', labels_path=data_temp+'/'+'t10k-labels-idx1-ubyte')"
   ]
  },
  {
   "cell_type": "code",
   "execution_count": 25,
   "id": "70c98f49-4cc6-4a60-8a92-88e1c0f2c8e5",
   "metadata": {},
   "outputs": [
    {
     "name": "stdout",
     "output_type": "stream",
     "text": [
      "(10000, 28, 28, 1)\n",
      "(10000, 10)\n"
     ]
    }
   ],
   "source": [
    "test_image=np.expand_dims(test_image, axis=2)\n",
    "test_image = np.reshape(test_image, (-1,28,28))\n",
    "test_image=np.expand_dims(test_image, axis=3)\n",
    "print(test_image.shape)\n",
    "y_or = test_label\n",
    "test_label = onehot_encoder.transform(np.expand_dims(test_label,axis=1))\n",
    "print(test_label.shape)"
   ]
  },
  {
   "cell_type": "code",
   "execution_count": 26,
   "id": "afa38c82-1824-4b3e-b96c-bc22fb718bef",
   "metadata": {},
   "outputs": [
    {
     "name": "stdout",
     "output_type": "stream",
     "text": [
      "10000/10000 [==============================] - 3s 267us/step\n",
      "[0.0597592210480303, 0.9828000068664551]\n",
      "Runtime of the testing is 2.764639139175415\n"
     ]
    }
   ],
   "source": [
    "start = time.time()\n",
    "print(model.evaluate(test_image,test_label))\n",
    "end = time.time()\n",
    "print(f\"Runtime of the testing is {end - start}\")"
   ]
  },
  {
   "cell_type": "code",
   "execution_count": 27,
   "id": "f6b06523-0621-4f57-938d-404f380ee2e6",
   "metadata": {},
   "outputs": [],
   "source": [
    "y = model.predict(test_image)\n",
    "y_ob = np.argmax(y, axis=1)\n",
    "no_cl = train_label.shape[1]"
   ]
  },
  {
   "cell_type": "code",
   "execution_count": 28,
   "id": "0ba90924-4f38-48f3-87e8-9b27dec27a9b",
   "metadata": {},
   "outputs": [
    {
     "name": "stdout",
     "output_type": "stream",
     "text": [
      "confusion matrix\n",
      "________________\n",
      "\n",
      "[[ 973    0    1    0    0    0    3    1    2    0]\n",
      " [   0 1124    2    1    2    1    1    3    1    0]\n",
      " [   0    0 1019    3    1    0    1    6    2    0]\n",
      " [   0    0    1 1002    0    4    0    1    2    0]\n",
      " [   1    0    0    0  965    0    5    3    0    8]\n",
      " [   2    0    0   13    1  871    2    0    2    1]\n",
      " [   8    3    0    0    3    5  939    0    0    0]\n",
      " [   0    3    6    4    1    0    0 1010    1    3]\n",
      " [   6    1    3   10    3    1    2    2  944    2]\n",
      " [   3    0    0    6   10    2    0    4    3  981]]\n",
      "_______________________________________________________\n",
      "\n",
      "              precision    recall  f1-score   support\n",
      "\n",
      "           0       0.98      0.99      0.99       980\n",
      "           1       0.99      0.99      0.99      1135\n",
      "           2       0.99      0.99      0.99      1032\n",
      "           3       0.96      0.99      0.98      1010\n",
      "           4       0.98      0.98      0.98       982\n",
      "           5       0.99      0.98      0.98       892\n",
      "           6       0.99      0.98      0.98       958\n",
      "           7       0.98      0.98      0.98      1028\n",
      "           8       0.99      0.97      0.98       974\n",
      "           9       0.99      0.97      0.98      1009\n",
      "\n",
      "    accuracy                           0.98     10000\n",
      "   macro avg       0.98      0.98      0.98     10000\n",
      "weighted avg       0.98      0.98      0.98     10000\n",
      "\n",
      "_______________________________________________________\n",
      "\n",
      "label     tp     fn     fp     tn   accuracy   precision   recall\n",
      "    1    973      7     20   9000      0.997       0.980    0.993\n",
      "    2   1124     11      7   8858      0.998       0.994    0.990\n",
      "    3   1019     13     13   8955      0.997       0.987    0.987\n",
      "    4   1002      8     37   8953      0.996       0.964    0.992\n",
      "    5    965     17     21   8997      0.996       0.979    0.983\n",
      "    6    871     21     13   9095      0.997       0.985    0.976\n",
      "    7    939     19     14   9028      0.997       0.985    0.980\n",
      "    8   1010     18     20   8952      0.996       0.981    0.982\n",
      "    9    944     30     13   9013      0.996       0.986    0.969\n",
      "   10    981     28     14   8977      0.996       0.986    0.972\n",
      "_______________________________________________________\n",
      "\n",
      "Accuracy : 0.9828\n"
     ]
    }
   ],
   "source": [
    "conf = confusion_matrix(y_or,y_ob)\n",
    "print('confusion matrix')\n",
    "print('________________\\n')\n",
    "print(conf)\n",
    "print('_______________________________________________________\\n')\n",
    "print(classification_report(y_or,y_ob))\n",
    "print('_______________________________________________________\\n')\n",
    "print(\"label     tp     fn     fp     tn   accuracy   precision   recall\")\n",
    "for label in range(no_cl):\n",
    "    tp,fn,fp,tn = tp_f(label, conf.astype(float))\n",
    "    print(f\"{label+1:5d} {tp:6.0f} {fn:6.0f} {fp:6.0f} {tn:6.0f}   {accuracy_f(label, conf):8.3f}   {precision(label, conf):9.3f}   {recall(label, conf):6.3f}\")\n",
    "    \n",
    "print('_______________________________________________________\\n')    \n",
    "acc=np.sum(np.diagonal(conf))/np.sum(conf)\n",
    "print('Accuracy : {}'.format(acc))"
   ]
  },
  {
   "cell_type": "code",
   "execution_count": null,
   "id": "f82e2482-525e-4a24-aa0f-00ac52d04f4f",
   "metadata": {},
   "outputs": [],
   "source": []
  }
 ],
 "metadata": {
  "kernelspec": {
   "display_name": "Python 3",
   "language": "python",
   "name": "python3"
  },
  "language_info": {
   "codemirror_mode": {
    "name": "ipython",
    "version": 3
   },
   "file_extension": ".py",
   "mimetype": "text/x-python",
   "name": "python",
   "nbconvert_exporter": "python",
   "pygments_lexer": "ipython3",
   "version": "3.7.11"
  }
 },
 "nbformat": 4,
 "nbformat_minor": 5
}
